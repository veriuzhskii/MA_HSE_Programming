{
  "nbformat": 4,
  "nbformat_minor": 0,
  "metadata": {
    "colab": {
      "provenance": []
    },
    "kernelspec": {
      "name": "python3",
      "display_name": "Python 3"
    },
    "language_info": {
      "name": "python"
    }
  },
  "cells": [
    {
      "cell_type": "markdown",
      "source": [
        "# **Задание 1**"
      ],
      "metadata": {
        "id": "uNqm12feq40D"
      }
    },
    {
      "cell_type": "code",
      "execution_count": 1,
      "metadata": {
        "id": "kZBDmdBjK8sh",
        "colab": {
          "base_uri": "https://localhost:8080/"
        },
        "outputId": "8e102400-a745-42c2-cd09-9baf5968dc7c"
      },
      "outputs": [
        {
          "output_type": "stream",
          "name": "stdout",
          "text": [
            "\u001b[?25l   \u001b[90m━━━━━━━━━━━━━━━━━━━━━━━━━━━━━━━━━━━━━━━━\u001b[0m \u001b[32m0.0/480.6 kB\u001b[0m \u001b[31m?\u001b[0m eta \u001b[36m-:--:--\u001b[0m\r\u001b[2K   \u001b[91m━━━━━━━━━━━━━━━━━━━━━━━━━━━━━━━━━━━━━━━\u001b[0m\u001b[90m╺\u001b[0m \u001b[32m471.0/480.6 kB\u001b[0m \u001b[31m26.9 MB/s\u001b[0m eta \u001b[36m0:00:01\u001b[0m\r\u001b[2K   \u001b[90m━━━━━━━━━━━━━━━━━━━━━━━━━━━━━━━━━━━━━━━━\u001b[0m \u001b[32m480.6/480.6 kB\u001b[0m \u001b[31m8.1 MB/s\u001b[0m eta \u001b[36m0:00:00\u001b[0m\n",
            "\u001b[?25h\u001b[?25l   \u001b[90m━━━━━━━━━━━━━━━━━━━━━━━━━━━━━━━━━━━━━━━━\u001b[0m \u001b[32m0.0/116.3 kB\u001b[0m \u001b[31m?\u001b[0m eta \u001b[36m-:--:--\u001b[0m\r\u001b[2K   \u001b[90m━━━━━━━━━━━━━━━━━━━━━━━━━━━━━━━━━━━━━━━━\u001b[0m \u001b[32m116.3/116.3 kB\u001b[0m \u001b[31m7.2 MB/s\u001b[0m eta \u001b[36m0:00:00\u001b[0m\n",
            "\u001b[?25h\u001b[?25l   \u001b[90m━━━━━━━━━━━━━━━━━━━━━━━━━━━━━━━━━━━━━━━━\u001b[0m \u001b[32m0.0/179.3 kB\u001b[0m \u001b[31m?\u001b[0m eta \u001b[36m-:--:--\u001b[0m\r\u001b[2K   \u001b[90m━━━━━━━━━━━━━━━━━━━━━━━━━━━━━━━━━━━━━━━━\u001b[0m \u001b[32m179.3/179.3 kB\u001b[0m \u001b[31m14.1 MB/s\u001b[0m eta \u001b[36m0:00:00\u001b[0m\n",
            "\u001b[?25h\u001b[?25l   \u001b[90m━━━━━━━━━━━━━━━━━━━━━━━━━━━━━━━━━━━━━━━━\u001b[0m \u001b[32m0.0/134.8 kB\u001b[0m \u001b[31m?\u001b[0m eta \u001b[36m-:--:--\u001b[0m\r\u001b[2K   \u001b[90m━━━━━━━━━━━━━━━━━━━━━━━━━━━━━━━━━━━━━━━━\u001b[0m \u001b[32m134.8/134.8 kB\u001b[0m \u001b[31m9.2 MB/s\u001b[0m eta \u001b[36m0:00:00\u001b[0m\n",
            "\u001b[?25h\u001b[?25l   \u001b[90m━━━━━━━━━━━━━━━━━━━━━━━━━━━━━━━━━━━━━━━━\u001b[0m \u001b[32m0.0/194.1 kB\u001b[0m \u001b[31m?\u001b[0m eta \u001b[36m-:--:--\u001b[0m\r\u001b[2K   \u001b[90m━━━━━━━━━━━━━━━━━━━━━━━━━━━━━━━━━━━━━━━━\u001b[0m \u001b[32m194.1/194.1 kB\u001b[0m \u001b[31m14.2 MB/s\u001b[0m eta \u001b[36m0:00:00\u001b[0m\n",
            "\u001b[?25h\u001b[31mERROR: pip's dependency resolver does not currently take into account all the packages that are installed. This behaviour is the source of the following dependency conflicts.\n",
            "gcsfs 2024.10.0 requires fsspec==2024.10.0, but you have fsspec 2024.9.0 which is incompatible.\u001b[0m\u001b[31m\n",
            "\u001b[0m"
          ]
        }
      ],
      "source": [
        "!pip install -q datasets"
      ]
    },
    {
      "cell_type": "code",
      "source": [
        "from datasets import load_dataset\n",
        "\n",
        "dataset = load_dataset(\"Sp1786/multiclass-sentiment-analysis-dataset\")\n",
        "\n",
        "dataset"
      ],
      "metadata": {
        "colab": {
          "base_uri": "https://localhost:8080/"
        },
        "id": "vdewx_N7N_QO",
        "outputId": "617cd521-3732-4fe4-ff9c-df648ccb62c9"
      },
      "execution_count": 3,
      "outputs": [
        {
          "output_type": "execute_result",
          "data": {
            "text/plain": [
              "DatasetDict({\n",
              "    train: Dataset({\n",
              "        features: ['id', 'text', 'label', 'sentiment'],\n",
              "        num_rows: 31232\n",
              "    })\n",
              "    validation: Dataset({\n",
              "        features: ['id', 'text', 'label', 'sentiment'],\n",
              "        num_rows: 5205\n",
              "    })\n",
              "    test: Dataset({\n",
              "        features: ['id', 'text', 'label', 'sentiment'],\n",
              "        num_rows: 5206\n",
              "    })\n",
              "})"
            ]
          },
          "metadata": {},
          "execution_count": 3
        }
      ]
    },
    {
      "cell_type": "code",
      "source": [
        "# Какие метки есть в датасете?\n",
        "\n",
        "# Создаем множество set()\n",
        "# Множество - это список уникальных элементов\n",
        "# Этот тип данных можно использовать как фильтр для наших меток\n",
        "unique_labels = set()\n",
        "\n",
        "# Для каждого уникального элемента из обучающей выборки dataset['train']\n",
        "# Добавим элемент в множество unique_labels\n",
        "for i in dataset['train']:\n",
        "  unique_labels.add(i['sentiment'])\n",
        "\n",
        "unique_labels"
      ],
      "metadata": {
        "colab": {
          "base_uri": "https://localhost:8080/"
        },
        "id": "1m-8CZEIO_UZ",
        "outputId": "143bd888-23b6-43de-a4f7-b8d066e43bec"
      },
      "execution_count": 4,
      "outputs": [
        {
          "output_type": "execute_result",
          "data": {
            "text/plain": [
              "{'negative', 'neutral', 'positive'}"
            ]
          },
          "metadata": {},
          "execution_count": 4
        }
      ]
    },
    {
      "cell_type": "code",
      "source": [
        "# Теперь посчитаем, сколько представителей каждой метки в выборках train, validation и test\n",
        "# Подсказки:\n",
        "# - создайте пустые переменные, куда вы будете вносить количество меток\n",
        "# - используйте цикл for и условия if\n",
        "# - обновляйте значения переменных методом счетчика (каждое новое совпадение: counter += 1)\n",
        "# - выведите на экран значения переменных для каждой из трех выборок\n",
        "\n",
        "train_counts = {}\n",
        "validation_counts = {}\n",
        "test_counts = {}\n",
        "\n",
        "def count_labels(dataset_split, counts_dict):\n",
        "  \"\"\"\n",
        "  Функция перебирает выборки и считает метки в каждой из них\n",
        "  \"\"\"\n",
        "  for i in dataset_split:\n",
        "      label = i['sentiment']\n",
        "      if label in counts_dict:\n",
        "          counts_dict[label] += 1\n",
        "      else:\n",
        "          counts_dict[label] = 1\n",
        "\n",
        "count_labels(dataset['train'], train_counts)\n",
        "count_labels(dataset['validation'], validation_counts)\n",
        "count_labels(dataset['test'], test_counts)\n",
        "\n",
        "print(\"Train counts:\", train_counts)\n",
        "print(\"Validation counts:\", validation_counts)\n",
        "print(\"Test counts:\", test_counts)"
      ],
      "metadata": {
        "colab": {
          "base_uri": "https://localhost:8080/"
        },
        "id": "yx2D2VuNQEK4",
        "outputId": "7edcef9c-fed1-402e-b11d-c500bb3fde0e"
      },
      "execution_count": 13,
      "outputs": [
        {
          "output_type": "stream",
          "name": "stdout",
          "text": [
            "Train counts: {'positive': 10478, 'neutral': 11649, 'negative': 9105}\n",
            "Validation counts: {'negative': 1517, 'positive': 1760, 'neutral': 1928}\n",
            "Test counts: {'neutral': 1930, 'positive': 1730, 'negative': 1546}\n"
          ]
        }
      ]
    },
    {
      "cell_type": "code",
      "source": [
        "# Используйте арифметические операции, чтобы посчитать процентное соотношение или долю каждого класса в каждой выборке\n",
        "\n",
        "def calculate_percentage(counts_dict, total_count):\n",
        "  percentages = {}\n",
        "  for label, count in counts_dict.items():\n",
        "    percentages[label] = round((count / total_count) * 100, 2)\n",
        "  return percentages\n",
        "\n",
        "train_percentages = calculate_percentage(train_counts, sum(train_counts.values()))\n",
        "validation_percentages = calculate_percentage(validation_counts, sum(validation_counts.values()))\n",
        "test_percentages = calculate_percentage(test_counts, sum(test_counts.values()))\n",
        "\n",
        "# Форматирование вывода\n",
        "def print_percentage_counts(title, percentages_dict):\n",
        "    print(f\"{title} percentages:\")\n",
        "    for label, percentage in percentages_dict.items():\n",
        "        print(f\"- {label}: {percentage} %\")\n",
        "    print()\n",
        "\n",
        "print_percentage_counts(\"Train\", train_percentages)\n",
        "print_percentage_counts(\"Validation\", validation_percentages)\n",
        "print_percentage_counts(\"Test\", test_percentages)"
      ],
      "metadata": {
        "colab": {
          "base_uri": "https://localhost:8080/"
        },
        "id": "8h9_e--ZWnHM",
        "outputId": "b3db29e0-8534-4f7b-ec49-c79f2058a6c7"
      },
      "execution_count": 16,
      "outputs": [
        {
          "output_type": "stream",
          "name": "stdout",
          "text": [
            "Train percentages:\n",
            "- positive: 33.55 %\n",
            "- neutral: 37.3 %\n",
            "- negative: 29.15 %\n",
            "\n",
            "Validation percentages:\n",
            "- negative: 29.15 %\n",
            "- positive: 33.81 %\n",
            "- neutral: 37.04 %\n",
            "\n",
            "Test percentages:\n",
            "- neutral: 37.07 %\n",
            "- positive: 33.23 %\n",
            "- negative: 29.7 %\n",
            "\n"
          ]
        }
      ]
    },
    {
      "cell_type": "code",
      "source": [
        "# Создадим визуализацию\n",
        "# Будем работать с библиотекой matplotlip\n",
        "# Numpy - библиотека для обработки массивов данных - обеспечивает работу matplotlib\n",
        "from matplotlib import pyplot as plt\n",
        "import numpy as np\n",
        "\n",
        "# Задаем список меток\n",
        "labels = list(validation_percentages.keys())\n",
        "# Задаем значения для каждой метки, процентное соотношение (только для обучающей выборки)\n",
        "data = list(validation_percentages.values())\n",
        "\n",
        "# Код для отрисовки круговой диаграммы\n",
        "fig = plt.figure(figsize=(10, 7))\n",
        "plt.pie(data, labels=labels, autopct='%1.f%%') # autopict создает числовые подписи и использует целочисленное форматирование\n",
        "\n",
        "# Показать график\n",
        "plt.show()"
      ],
      "metadata": {
        "colab": {
          "base_uri": "https://localhost:8080/",
          "height": 576
        },
        "id": "YL1QrqoIfyxk",
        "outputId": "6442c657-7469-4f78-d599-1df6ea9dd8c1"
      },
      "execution_count": 18,
      "outputs": [
        {
          "output_type": "display_data",
          "data": {
            "text/plain": [
              "<Figure size 1000x700 with 1 Axes>"
            ],
            "image/png": "[encoded data removed]"
          },
          "metadata": {}
        }
      ]
    },
    {
      "cell_type": "code",
      "source": [
        "# Сделаем то же самое для проверочной выборки\n",
        "labels = list(train_percentages.keys())\n",
        "\n",
        "fig = plt.figure(figsize=(10, 7))\n",
        "plt.pie(data, labels=labels, autopct='%1.f%%')\n",
        "\n",
        "plt.show()"
      ],
      "metadata": {
        "colab": {
          "base_uri": "https://localhost:8080/",
          "height": 576
        },
        "id": "C7HW2H_BjatV",
        "outputId": "1340dfea-b0df-455e-d925-cfe695715a58"
      },
      "execution_count": 22,
      "outputs": [
        {
          "output_type": "display_data",
          "data": {
            "text/plain": [
              "<Figure size 1000x700 with 1 Axes>"
            ],
            "image/png": "[encoded data removed]"
          },
          "metadata": {}
        }
      ]
    },
    {
      "cell_type": "code",
      "source": [
        "# Сделаем то же самое для тестовой выборки\n",
        "labels = list(test_percentages.keys())\n",
        "\n",
        "fig = plt.figure(figsize=(10, 7))\n",
        "plt.pie(data, labels=labels, autopct='%1.f%%')\n",
        "\n",
        "plt.show()"
      ],
      "metadata": {
        "colab": {
          "base_uri": "https://localhost:8080/",
          "height": 576
        },
        "id": "Veb7_CSVjb6d",
        "outputId": "ed82feb3-f02a-4b88-d990-970bdb32ed53"
      },
      "execution_count": 20,
      "outputs": [
        {
          "output_type": "display_data",
          "data": {
            "text/plain": [
              "<Figure size 1000x700 with 1 Axes>"
            ],
            "image/png": "[encoded data removed]"
          },
          "metadata": {}
        }
      ]
    },
    {
      "cell_type": "markdown",
      "source": [
        "# **Задание 2**"
      ],
      "metadata": {
        "id": "lfMJrlcCq1xh"
      }
    },
    {
      "cell_type": "code",
      "source": [
        "# Загрузка spaCy\n",
        "import spacy\n",
        "\n",
        "# Загрузка библиотеки для визуализации spaCy\n",
        "from spacy import displacy\n",
        "\n",
        "# Инициализация инструментов SpaCy для английского (для каждого языка загружается свой вариант)\n",
        "nlp = spacy.load('en_core_web_sm')\n",
        "\n",
        "# Выведем доступные инструменты\n",
        "print(nlp.pipe_names)"
      ],
      "metadata": {
        "colab": {
          "base_uri": "https://localhost:8080/"
        },
        "id": "x0_B3g5Kq4Ft",
        "outputId": "4bbeac7f-5b18-425e-e0cf-7e5d5b70e808"
      },
      "execution_count": 23,
      "outputs": [
        {
          "output_type": "stream",
          "name": "stdout",
          "text": [
            "['tok2vec', 'tagger', 'parser', 'attribute_ruler', 'lemmatizer', 'ner']\n"
          ]
        }
      ]
    },
    {
      "cell_type": "code",
      "source": [
        "# Образец текста из нашего датасета\n",
        "sample = dataset['train'][0]['text']\n",
        "sample"
      ],
      "metadata": {
        "colab": {
          "base_uri": "https://localhost:8080/",
          "height": 35
        },
        "id": "CHGGlHb7rDD_",
        "outputId": "1397e103-4c30-4c5b-8ec6-323382d770d0"
      },
      "execution_count": 24,
      "outputs": [
        {
          "output_type": "execute_result",
          "data": {
            "text/plain": [
              "'Cooking microwave pizzas, yummy'"
            ],
            "application/vnd.google.colaboratory.intrinsic+json": {
              "type": "string"
            }
          },
          "metadata": {},
          "execution_count": 24
        }
      ]
    },
    {
      "cell_type": "code",
      "source": [
        "# Для работы со SpaCy, _нужно_ привести все к нужному виду\n",
        "# Для этого загружаем в nlp наш текст\n",
        "doc = nlp(sample)\n",
        "doc # Визуально ничего не изменилось, но теперь это объект класса SpaCy, который можно обработать инструментами NLP"
      ],
      "metadata": {
        "colab": {
          "base_uri": "https://localhost:8080/"
        },
        "id": "Vantmx0ErHZG",
        "outputId": "a6b0213c-430e-4a2e-a0cf-673128738341"
      },
      "execution_count": 25,
      "outputs": [
        {
          "output_type": "execute_result",
          "data": {
            "text/plain": [
              "Cooking microwave pizzas, yummy"
            ]
          },
          "metadata": {},
          "execution_count": 25
        }
      ]
    },
    {
      "cell_type": "code",
      "source": [
        "# Токенизация\n",
        "for token in doc:\n",
        "    print(token.text)"
      ],
      "metadata": {
        "colab": {
          "base_uri": "https://localhost:8080/"
        },
        "id": "f6PJfNwDtYeH",
        "outputId": "d7338928-8607-420e-d3ad-a12701af4de4"
      },
      "execution_count": 26,
      "outputs": [
        {
          "output_type": "stream",
          "name": "stdout",
          "text": [
            "Cooking\n",
            "microwave\n",
            "pizzas\n",
            ",\n",
            "yummy\n"
          ]
        }
      ]
    },
    {
      "cell_type": "code",
      "source": [
        "# Частересная разметка\n",
        "for token in doc:\n",
        "    print(token.pos_)"
      ],
      "metadata": {
        "colab": {
          "base_uri": "https://localhost:8080/"
        },
        "id": "e6VwJZTltaJz",
        "outputId": "c3e911f9-1f48-449e-e1e1-c6fd5fa40a2e"
      },
      "execution_count": 27,
      "outputs": [
        {
          "output_type": "stream",
          "name": "stdout",
          "text": [
            "NOUN\n",
            "NOUN\n",
            "NOUN\n",
            "PUNCT\n",
            "ADJ\n"
          ]
        }
      ]
    },
    {
      "cell_type": "code",
      "source": [
        "# Лемматизация\n",
        "for token in doc:\n",
        "    print(token.lemma_)"
      ],
      "metadata": {
        "colab": {
          "base_uri": "https://localhost:8080/"
        },
        "id": "wxApFXA3tdgT",
        "outputId": "f8e24641-0586-44df-e6de-80657579731a"
      },
      "execution_count": 28,
      "outputs": [
        {
          "output_type": "stream",
          "name": "stdout",
          "text": [
            "cooking\n",
            "microwave\n",
            "pizza\n",
            ",\n",
            "yummy\n"
          ]
        }
      ]
    },
    {
      "cell_type": "code",
      "source": [
        "# Синтаксическая роль (составляющие)\n",
        "for token in doc:\n",
        "    print(token.tag_)"
      ],
      "metadata": {
        "colab": {
          "base_uri": "https://localhost:8080/"
        },
        "id": "Cc_it4Rwtfap",
        "outputId": "6956a3ae-a04d-4bfc-ced6-a685b48bb1d8"
      },
      "execution_count": 29,
      "outputs": [
        {
          "output_type": "stream",
          "name": "stdout",
          "text": [
            "NN\n",
            "NN\n",
            "NNS\n",
            ",\n",
            "JJ\n"
          ]
        }
      ]
    },
    {
      "cell_type": "code",
      "source": [
        "# Синтаксическая роль (зависимости)\n",
        "for token in doc:\n",
        "    print(token.dep_)"
      ],
      "metadata": {
        "colab": {
          "base_uri": "https://localhost:8080/"
        },
        "id": "IPsMRZKvwIev",
        "outputId": "ecb15f28-84e6-4fd7-8ea7-ee047c5632cd"
      },
      "execution_count": 30,
      "outputs": [
        {
          "output_type": "stream",
          "name": "stdout",
          "text": [
            "compound\n",
            "compound\n",
            "ROOT\n",
            "punct\n",
            "amod\n"
          ]
        }
      ]
    },
    {
      "cell_type": "code",
      "source": [
        "# Морфологическая разметка\n",
        "for token in doc:\n",
        "    print(token.morph)"
      ],
      "metadata": {
        "colab": {
          "base_uri": "https://localhost:8080/"
        },
        "id": "wQRK-8nJwK-t",
        "outputId": "eac2143c-c327-4992-b3b9-4bde737ca75d"
      },
      "execution_count": 31,
      "outputs": [
        {
          "output_type": "stream",
          "name": "stdout",
          "text": [
            "Number=Sing\n",
            "Number=Sing\n",
            "Number=Plur\n",
            "PunctType=Comm\n",
            "Degree=Pos\n"
          ]
        }
      ]
    },
    {
      "cell_type": "markdown",
      "source": [
        "1. Сохраним в отдельную переменную список текстов из тестовой выборки"
      ],
      "metadata": {
        "id": "j3V0U2GF4pVY"
      }
    },
    {
      "cell_type": "code",
      "source": [
        "# Выведите первые 5 текстов\n",
        "test_texts = [text['text'] for text in dataset['test']]\n",
        "\n",
        "test_texts[:5]"
      ],
      "metadata": {
        "colab": {
          "base_uri": "https://localhost:8080/"
        },
        "id": "WKBX4zMlwN0l",
        "outputId": "082c4da1-24f7-4384-a009-a51bddaccd42"
      },
      "execution_count": 41,
      "outputs": [
        {
          "output_type": "execute_result",
          "data": {
            "text/plain": [
              "['getting cds ready for tour',\n",
              " ' MC, happy mother`s day to your mom ;).. love yah',\n",
              " 'A year from now is graduation....i am pretty sure i`m not ready for it!?!?!?',\n",
              " ' because you had chips and sale w/o me',\n",
              " 'Great for organising my work life balance']"
            ]
          },
          "metadata": {},
          "execution_count": 41
        }
      ]
    },
    {
      "cell_type": "markdown",
      "source": [
        "2. Создадим список токенов для каждого текста с помощью SpaCy"
      ],
      "metadata": {
        "id": "pGZxXBiM4mSH"
      }
    },
    {
      "cell_type": "code",
      "source": [
        "tokenized_texts = []\n",
        "\n",
        "for text in test_texts[:100]:\n",
        "    doc = nlp(text)\n",
        "    tokens = [token.text for token in doc]\n",
        "    tokenized_texts.append(tokens)\n",
        "\n",
        "# Выведите первые 5 текстов\n",
        "for tokens in tokenized_texts[:5]:\n",
        "    print(tokens)"
      ],
      "metadata": {
        "colab": {
          "base_uri": "https://localhost:8080/"
        },
        "id": "z468i2jR1-ph",
        "outputId": "bc9364a8-9e0a-47b6-9063-41c8fdb3df91"
      },
      "execution_count": 45,
      "outputs": [
        {
          "output_type": "stream",
          "name": "stdout",
          "text": [
            "['getting', 'cds', 'ready', 'for', 'tour']\n",
            "[' ', 'MC', ',', 'happy', 'mother`s', 'day', 'to', 'your', 'mom', ';)', '..', 'love', 'yah']\n",
            "['A', 'year', 'from', 'now', 'is', 'graduation', '....', 'i', 'am', 'pretty', 'sure', 'i`m', 'not', 'ready', 'for', 'it', '!', '?', '!', '?', '!', '?']\n",
            "[' ', 'because', 'you', 'had', 'chips', 'and', 'sale', 'w/o', 'me']\n",
            "['Great', 'for', 'organising', 'my', 'work', 'life', 'balance']\n"
          ]
        }
      ]
    },
    {
      "cell_type": "markdown",
      "source": [
        "3. Частеречная разметка: создаем список частей речи для каждого токена"
      ],
      "metadata": {
        "id": "rel2cDL18OGK"
      }
    },
    {
      "cell_type": "code",
      "source": [
        "pos_tags = []\n",
        "\n",
        "for text in test_texts[:100]:\n",
        "    doc = nlp(text)\n",
        "    pos = [token.pos_ for token in doc]\n",
        "    pos_tags.append(pos)\n",
        "\n",
        "# Выведите первые 5 текстов\n",
        "for tokens in pos_tags[:5]:\n",
        "    print(tokens)"
      ],
      "metadata": {
        "colab": {
          "base_uri": "https://localhost:8080/"
        },
        "id": "oEKDO2GK8PHt",
        "outputId": "29c29e6c-1ebe-4a86-9151-e6cb6925e877"
      },
      "execution_count": 47,
      "outputs": [
        {
          "output_type": "stream",
          "name": "stdout",
          "text": [
            "['VERB', 'NOUN', 'ADJ', 'ADP', 'NOUN']\n",
            "['SPACE', 'PROPN', 'PUNCT', 'ADJ', 'PROPN', 'NOUN', 'ADP', 'PRON', 'NOUN', 'PUNCT', 'PUNCT', 'NOUN', 'NOUN']\n",
            "['DET', 'NOUN', 'ADP', 'ADV', 'AUX', 'NOUN', 'PUNCT', 'PRON', 'AUX', 'ADV', 'ADJ', 'PROPN', 'PART', 'ADJ', 'ADP', 'PRON', 'PUNCT', 'PUNCT', 'PUNCT', 'PUNCT', 'PUNCT', 'PUNCT']\n",
            "['SPACE', 'SCONJ', 'PRON', 'VERB', 'NOUN', 'CCONJ', 'NOUN', 'ADP', 'PRON']\n",
            "['ADJ', 'ADP', 'VERB', 'PRON', 'NOUN', 'NOUN', 'NOUN']\n"
          ]
        }
      ]
    },
    {
      "cell_type": "markdown",
      "source": [
        "4. Проверим точность разметки. С помощью range выведем для первых пяти текстов пары \"слово - его частеречный тег\"."
      ],
      "metadata": {
        "id": "_GxBO2LJD8yR"
      }
    },
    {
      "cell_type": "code",
      "source": [
        "# Это задание сложнее, чем кажется\n",
        "# Подсказка:\n",
        "# for i in range(len(list)) - это итерация по _длине_ списка;\n",
        "# в переменную i сохраняется порядковый номер текущего элемента списка;\n",
        "# если у нас есть несколько сопоставимых списков одинаковой длины,\n",
        "# то на каждом шаге итерации мы можем выводить элементы одного порядка из разных списков,\n",
        "# например for i in range(len(list)) поможет вывести tokens[4] и pos[4] одновременно, в одном блоке кода\n",
        "\n",
        "for i in range(5):\n",
        "    print(f\"Tекст {i}\")\n",
        "    for token, pos in zip(tokenized_texts[i], pos_tags[i]):\n",
        "        print(f\"{token} - {pos}\")\n",
        "    print()"
      ],
      "metadata": {
        "colab": {
          "base_uri": "https://localhost:8080/"
        },
        "id": "xsGFFs6iD7E1",
        "outputId": "085704b4-cc16-4238-9af1-4f1c798e7015"
      },
      "execution_count": 57,
      "outputs": [
        {
          "output_type": "stream",
          "name": "stdout",
          "text": [
            "Tекст 0\n",
            "getting - VERB\n",
            "cds - NOUN\n",
            "ready - ADJ\n",
            "for - ADP\n",
            "tour - NOUN\n",
            "\n",
            "Tекст 1\n",
            "  - SPACE\n",
            "MC - PROPN\n",
            ", - PUNCT\n",
            "happy - ADJ\n",
            "mother`s - PROPN\n",
            "day - NOUN\n",
            "to - ADP\n",
            "your - PRON\n",
            "mom - NOUN\n",
            ";) - PUNCT\n",
            ".. - PUNCT\n",
            "love - NOUN\n",
            "yah - NOUN\n",
            "\n",
            "Tекст 2\n",
            "A - DET\n",
            "year - NOUN\n",
            "from - ADP\n",
            "now - ADV\n",
            "is - AUX\n",
            "graduation - NOUN\n",
            ".... - PUNCT\n",
            "i - PRON\n",
            "am - AUX\n",
            "pretty - ADV\n",
            "sure - ADJ\n",
            "i`m - PROPN\n",
            "not - PART\n",
            "ready - ADJ\n",
            "for - ADP\n",
            "it - PRON\n",
            "! - PUNCT\n",
            "? - PUNCT\n",
            "! - PUNCT\n",
            "? - PUNCT\n",
            "! - PUNCT\n",
            "? - PUNCT\n",
            "\n",
            "Tекст 3\n",
            "  - SPACE\n",
            "because - SCONJ\n",
            "you - PRON\n",
            "had - VERB\n",
            "chips - NOUN\n",
            "and - CCONJ\n",
            "sale - NOUN\n",
            "w/o - ADP\n",
            "me - PRON\n",
            "\n",
            "Tекст 4\n",
            "Great - ADJ\n",
            "for - ADP\n",
            "organising - VERB\n",
            "my - PRON\n",
            "work - NOUN\n",
            "life - NOUN\n",
            "balance - NOUN\n",
            "\n"
          ]
        }
      ]
    },
    {
      "cell_type": "markdown",
      "source": [
        "5. Разметка именованных сущностей"
      ],
      "metadata": {
        "id": "UW3y_YFTJm-J"
      }
    },
    {
      "cell_type": "code",
      "source": [
        "# Для каждого текста из выбранного среза: допишите этот код\n",
        "  # Применим к тексту nlp: допишите этот код\n",
        "for i in range(100):\n",
        "    doc = nlp(test_texts[i])\n",
        "    entities = [(ent.text, ent.label_) for ent in doc.ents]\n",
        "    if entities: # вывод только если есть именованные сущности\n",
        "      print(entities)"
      ],
      "metadata": {
        "colab": {
          "base_uri": "https://localhost:8080/"
        },
        "id": "-OpJGdUaJl7_",
        "outputId": "1bdd7479-0c3b-48d9-e432-fbac2b95a492"
      },
      "execution_count": 61,
      "outputs": [
        {
          "output_type": "stream",
          "name": "stdout",
          "text": [
            "[('A year from now', 'DATE'), ('i`m', 'NORP')]\n",
            "[('1st', 'ORDINAL'), ('2890', 'CARDINAL')]\n",
            "[('first', 'ORDINAL')]\n",
            "[('today', 'DATE'), ('i`m', 'NORP')]\n",
            "[('Audi', 'ORG')]\n",
            "[('REALLY', 'GPE')]\n",
            "[('i`m', 'NORP')]\n",
            "[('TY', 'ORG')]\n",
            "[('recent years', 'DATE')]\n",
            "[('today', 'DATE'), ('First', 'ORDINAL'), ('Canadamigos Social Networking', 'ORG')]\n",
            "[('1st-', 'CARDINAL'), ('TY', 'ORG'), ('2nd', 'ORDINAL'), ('2000', 'DATE')]\n",
            "[('more than 1hr', 'DATE')]\n",
            "[('App', 'PERSON')]\n",
            "[('1', 'CARDINAL'), ('2', 'CARDINAL'), ('2', 'CARDINAL')]\n",
            "[('Gloucester', 'PERSON')]\n",
            "[('Sam', 'PERSON')]\n",
            "[('Goodnight', 'PERSON')]\n",
            "[('this morning', 'TIME')]\n",
            "[('apps', 'PERSON'), ('Spotify', 'GPE')]\n",
            "[('Today', 'DATE'), ('Orlando', 'GPE'), ('NEXT', 'ORG'), ('friday', 'DATE')]\n",
            "[('24', 'CARDINAL'), ('CSS', 'ORG'), ('4', 'CARDINAL')]\n",
            "[('apps', 'ORG'), ('Great App', 'PERSON')]\n",
            "[('today', 'DATE')]\n",
            "[('friday night', 'TIME'), ('hours', 'TIME'), ('del sea', 'LOC')]\n",
            "[('week', 'DATE')]\n",
            "[('Fast & Furious = EXCELLENT', 'ORG'), ('Andy', 'PERSON')]\n",
            "[('CHRISTIAN', 'ORG'), ('BLEH', 'ORG')]\n",
            "[('trumps', 'PERSON')]\n",
            "[('a fun day', 'DATE')]\n",
            "[('LeBron James', 'PERSON'), ('36', 'CARDINAL'), ('Cavs', 'PERSON'), ('17', 'CARDINAL'), ('LeBron', 'ORG')]\n",
            "[('CLOGGED', 'ORG')]\n",
            "[('Nutty Newsire', 'ORG')]\n",
            "[('AZ', 'ORG')]\n",
            "[('98', 'CARDINAL'), ('that`s', 'CARDINAL'), ('i`ll', 'GPE')]\n",
            "[('Hey Sam', 'PERSON')]\n",
            "[('hours', 'TIME')]\n",
            "[('a date', 'DATE'), ('almost 8 days', 'DATE'), ('today', 'DATE')]\n",
            "[('Google', 'ORG')]\n",
            "[('BBC America', 'ORG')]\n",
            "[('200', 'CARDINAL')]\n",
            "[('11', 'CARDINAL')]\n",
            "[('some months', 'DATE'), ('google', 'ORG')]\n",
            "[('the day', 'DATE'), ('Steve', 'PERSON')]\n",
            "[('ri_ja', 'PERSON'), ('morning', 'TIME')]\n",
            "[('first', 'ORDINAL')]\n",
            "[('BABEE', 'ORG')]\n",
            "[('more than only one', 'CARDINAL')]\n",
            "[('Wordpress', 'ORG')]\n",
            "[('I`ll', 'GPE')]\n",
            "[('0.0', 'CARDINAL')]\n",
            "[('goodnight twitterville', 'PERSON'), ('tonight', 'TIME'), ('XOXO', 'PERSON')]\n",
            "[('Nice', 'GPE')]\n"
          ]
        }
      ]
    },
    {
      "cell_type": "code",
      "source": [
        "# Выберите любой текст и визуализируйте его разметку именованных сущностей\n",
        "displacy.render(nlp(test_texts[52]), style=\"ent\", jupyter=True)"
      ],
      "metadata": {
        "colab": {
          "base_uri": "https://localhost:8080/",
          "height": 52
        },
        "id": "RYTFQZljQNgp",
        "outputId": "129249c0-3d64-4615-80b5-7fd6f618e02f"
      },
      "execution_count": 64,
      "outputs": [
        {
          "output_type": "display_data",
          "data": {
            "text/plain": [
              "<IPython.core.display.HTML object>"
            ],
            "text/html": [
              "<span class=\"tex2jax_ignore\"><div class=\"entities\" style=\"line-height: 2.5; direction: ltr\">Sick kid \n",
              "<mark class=\"entity\" style=\"background: #aa9cfc; padding: 0.45em 0.6em; margin: 0 0.25em; line-height: 1; border-radius: 0.35em;\">\n",
              "    trumps\n",
              "    <span style=\"font-size: 0.8em; font-weight: bold; line-height: 1; border-radius: 0.35em; vertical-align: middle; margin-left: 0.5rem\">PERSON</span>\n",
              "</mark>\n",
              " advance planning.  Bummer</div></span>"
            ]
          },
          "metadata": {}
        }
      ]
    }
  ]
}