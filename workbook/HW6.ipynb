{
  "nbformat": 4,
  "nbformat_minor": 0,
  "metadata": {
    "colab": {
      "provenance": []
    },
    "kernelspec": {
      "name": "python3",
      "display_name": "Python 3"
    },
    "language_info": {
      "name": "python"
    }
  },
  "cells": [
    {
      "cell_type": "markdown",
      "source": [
        "# **Задание 1:** Написать функцию для скрейпинга веб-страниц"
      ],
      "metadata": {
        "id": "0zpE3A9LA6dw"
      }
    },
    {
      "cell_type": "code",
      "execution_count": null,
      "metadata": {
        "id": "FgeJLfaX4a1O"
      },
      "outputs": [],
      "source": [
        "# импорт библиотек\n",
        "import requests\n",
        "from bs4 import BeautifulSoup\n",
        "\n",
        "# функция для скрейпинга\n",
        "def scrape_text_from_url(url, tag, class_=None):\n",
        "  response = requests.get(url)  # Выполняем HTML-запрос\n",
        "  if response.status_code == 200:  # Если запрос успешный\n",
        "      soup = BeautifulSoup(response.content, 'html.parser')  # Парсим контент с помощью BeautifulSoup\n",
        "      paragraphs = soup.find_all(tag, class_)  # Ищем теги и классы\n",
        "      text = \"\"  # Инициализируем пустую строку для текста\n",
        "      for p in paragraphs:  # Перебираем найденные элементы\n",
        "          text += p.get_text() # + \"\\n\"  # Извлекаем текстовые данные\n",
        "      return text\n",
        "  else:\n",
        "      return f\"Ошибка: запрос вернул статус-код {response.status_code}\""
      ]
    },
    {
      "cell_type": "code",
      "source": [
        "'''\n",
        "Проверяем функцию для скрейпинга: пример 1\n",
        "'''\n",
        "\n",
        "scrape_text_from_url('https://en.wikipedia.org/wiki/Flag_of_Russia', 'p')"
      ],
      "metadata": {
        "colab": {
          "base_uri": "https://localhost:8080/",
          "height": 143
        },
        "id": "JbRjCy1sLiMe",
        "outputId": "7f9e0f24-7f1c-4181-84f0-ff1b969ce0c9"
      },
      "execution_count": null,
      "outputs": [
        {
          "output_type": "execute_result",
          "data": {
            "text/plain": [
              "'\\n\\nThe national flag of the Russian Federation (Russian: Государственный флаг Российской Федерации, Gosudarstvenny flag Rossiyskoy Federatsii) is a tricolour of three equal horizontal bands: white on the top, blue in the middle, and red on the bottom.\\nThe design was first introduced by Tsar Peter the Great in 1693, and in 1705 it was adopted as the civil ensign of the Tsardom of Russia; the flag continued to be used as a civil ensign under the Russian Empire. In 1858, Emperor Alexander II declared the black-yellow-white tricolour as the national flag, and in 1896 it was replaced by the white-blue-red tricolour by Nicholas II. In 1917, following the October Revolution, the Bolsheviks banned the tricolour, though it continued to be flown by the White movement during the Russian Civil War. The flag of the Russian SFSR was a red field with its Cyrillic acronym \"РСФСР\" in the upper-left corner, and after 1954, was a red field with a vertical blue stripe on the left and a gold hammer and sickle.\\nShortly after the August Coup in 1991, the Russian SFSR adopted the imperial tricolour as the national flag of Russia, although with slightly different dimensions and colour shades than the current version. After the dissolution of the Soviet Union at the end of year, the newly independent Russian Federation inherited the redesigned flag, and its current proportions and shades were specified by President Boris Yeltsin in 1993.\\nTwo accounts of the flag\\'s origin connect it to the tricolour used by the Dutch Republic (the Statenvlag, later the flag of the Netherlands).[1][2]\\nThe earliest mention of the flag occurs during the reign of Alexis I, in 1668, and is related to the construction of the first Russian naval ship, the frigate Oryol. According to one source, the ship\\'s Dutch lead engineer Butler faced the need for the flag, and issued a request to the Boyar Duma, to \"ask His Royal Majesty as to which (as is the custom among other nations) flag shall be raised on the ship\". The official response merely indicated that, as such issue is as yet unprecedented, even though the land forces do use (apparently different) flags, the tsar ordered that his (Butler\\'s) opinion be sought about the matter, asking specifically as to the custom existing in his country.[3]\\nA different account traces the origins of the Russian flag to tsar Peter the Great\\'s visits to Arkhangelsk in 1693 and 1694. Peter was keenly interested in shipbuilding in the European style, different from the barges ordinarily used in Russia at the time. In 1693, Peter had ordered a Dutch-built frigate from Amsterdam. In 1694 when it arrived, the Dutch red, white, and blue banner flew from its stern.[4] Peter decided to model Russia\\'s naval flag after that banner by assigning meaning and reordering the colours.\\nThe Dutch flag book of 1695 by Carel Allard,[5] printed only a year after Peter\\'s trip to Western Europe, describes the tricolour with a double-headed eagle bearing a shield on its breast and wearing a golden crown over both of its heads.\\nA study on clarifying the national colours of Russia based on disquisition on documents of the Moscow Archive of Ministry of Justice of the Russian Empire was summarized by Dmitry Samokvasov, a Russian archaeologist and legal historian, in an edition of 16 pages called \"On the Question of National Colours of Ancient Russia\" published in Moscow in 1910.[6]\\nIn 1552, Russian regiments marched on the victorious assault of Kazan under Ivan the Terrible with the banner of the Most Gracious Saviour. For the next century and a half, the banner of Ivan the Terrible accompanied the Russian army. Under Tsarina Sophia Alekseevna, it visited the Crimean campaigns, and under Peter the Great, the Azov campaigns and the Russo-Swedish War.\\nIn the Illustrated Chronicle of Ivan the Terrible, there is an image of the banner of Ivan the Terrible in the Kazan campaign – a bifurcated white one with the image of the Saviour and an eight-pointed cross above it. According to other sources, the banner was red instead of white. A copy of this banner, which has been restored many times, is still kept in the Kremlin Armoury.\\nIn 1612, the Nizhny Novgorod militia raised the banner of Dmitry Pozharsky, it was crimson in colour with the image of the Lord Almighty on one side and the archangel Michael on the other.\\nIn 1669, the Polish painters Stanislav Loputsky and Ivan Mirovsky invited by Tsar Alexis of Russia, painted for the tsar\\'s palace in Kolomenskoye \"the hallmarks (that is, the emblems) of the sovereigns and all the universal states of this world.\" Then Loputsky drew \"on the canvas, the coat of arms of the Moscow State and the arms of other neighbouring countries, under every emblem of the planet under which they are.\" The coat of arms was a white rectangular banner with a \"slope\" and a wide red border, in the centre of which was depicted a gold two-headed eagle and the emblems symbolizing the subject kingdoms, principalities and lands. In the inventory of the Kremlin Armoury, the coat of arms is described as the following: \"In the circle there is a two-headed eagle wearing two crowns, and in his chest, the king on horseback pricks a serpent with his spear\".[7]\\nOn 6 August 1693, during Peter the Great\\'s sailing in the White Sea with a detachment of warships built in Arkhangelsk, the so-called \"Flag of the Tsar of Muscovy\"[8] was raised for the first time on the 12-gun yacht \"Saint Peter\". The flag was a cross-stitch of 4.6x4.9 meters sewn from cloth, composed of three equal-sized horizontal stripes of white, blue and red, with a golden double-headed eagle in the middle.[9] The original of this oldest surviving Russian flag is located in the Central Naval Museum in Saint Petersburg.\\nA 1695 flag book[10] by Carel Allard describes three flags used by the tsar of Muscovy: the tricolour[11] with the double-headed eagle bearing a shield on its breast and wearing a golden crown over both of its heads, the same tricolour[12] with a blue saltire over it, and a cross flag[13] showing red and white quartering with a blue cross over all.[14] The cross flag is depicted upon the Construction of Kronschloss Medal,[15] which commemorates the construction of Fort Kronschlot (Kronschloss) in Kronstadt by Peter the Great in 1704, the colours of the flag being determined according to the hatchings engraved.\\nThe armorial banner of Peter the Great was created in 1696. Made from red taffeta with a white border, the flag depicted a golden eagle hovering over the sea. On the chest of the eagle in the circle is the Saviour, next to the Holy Spirit and the Holy Apostles Peter and Paul. The banner was likely made for the second Azov campaign.[16]\\nIn 1693, Franz Timmerman received the order to build merchant ships in Arkhangelsk and trade with Europe. He was told to display the two-headed eagle spread with wings, with three crowns over it. On the chest of the eagle, a warrior on horseback was to be displayed with a spear, in a military harness. The same eagle was also to hold a sceptre with the right leg and an apple with a crest with the left. The same instructions were given to other traders.[17]\\nAccording to Dutch newspapers, in June 1694, a 44-gun frigate bought by Russia and built in Rotterdam stood in the Amsterdam roadstead under the white-blue-red flag.[18]\\nIn 1696, at the mouth of the river Don, a Russian flotilla of armed rowboats blocked the supply of the Ottoman fortress of Azov. On the 1700 engraving by Adrian Shkhonebek, Taking the fortress of Azov. 1696, depicts the ships carrying rectangular panels on the flagpoles, the heraldic shading of which shows that some of the flags are blue with a straight red cross, and the rest are white with a straight red cross. A number of researchers doubt the accuracy of Shkonebek\\'s engraving because he was not a witness to the events.[19]\\nImages of various white-blue-red Russian flags are present in the three later paintings of Abraham Storck\\'s workshop dedicated to the arrival in Amsterdam of Peter I. Peter I took part in a practice battle on the river IJ while on board the yacht of the Dutch East India Company.[20] In the paintings of Abraham Stork depicting the show fight, this yacht sails under the white-blue-red flag with a double-headed eagle, or under a white-red-blue pennant and a white-red-blue aft flag with a double-headed eagle.\\nIn October 1699, Peter I, on the back of the sheet with instructions sent to the Russian envoy Yemelyan Ukraintsev in Istanbul, drew a sketch of a three-band white-blue-red flag.[21]\\nIn December 1699, the Austrian ambassador Anton Paleyer gave a list of weapons and flags seen on the vessels of the Azov Flotilla in a letter. He described seeing three small flags of white-red-blue colours and two regimental colours of red and white mixed in with other colours.[22]\\nIn April 1700, Peter I ordered the Kremlin Armoury to build white-red-violet sea banners.[23] The design and dimensions of these banners correspond to the figure and the size of the regimental banner kept among the other 352 trophy Russian banners in the burial vault of Swedish kings – the Riddarholm Church in Stockholm.[24]\\nThe three-band white-blue-red flag, as well as the flag with a red Jerusalem cross, were also used on warships up to 1720 as signals.[25]\\nThe Russian tricolour flag was adopted as a merchant flag at rivers in 1705. These colours of the flag of Russia would later inspire the choice of the \"Pan-Slavic colours\" by the Prague Slavic Congress, 1848. Two other Slavic countries, Slovakia and Slovenia, have flags similar to the Russian one, but with added coats-of-arms for differentiation. On 7 May 1883, the Russian flag was authorized to be used on land, and it became an official National flag before the coronation of Tsar Nicholas II in 1896. \\nThe flag continued to be used by the Russian Provisional Government after Tsar Nicholas II abdicated during the February Revolution and was not replaced until the October Revolution which established the Russian Socialist Federative Soviet Republic.\\nOn 8 April 1918, the flag of the Russian Soviet Federative Socialist Republic was discussed at a meeting of the Council of People\\'s Commissars of the RSFSR. The Council proposed that the All-Russian Central Executive Committee create a red flag with the abbreviation for the phrase Workers of the world, unite! However, the proposal was not adopted. On 13 April 1918, the All-Russian Central Executive Committee established the RSFSR flag to be a red banner with the inscription Russian Socialist Federative Soviet Republic. The text of the decree did not contain any clarification regarding the colour, size and location of the inscription, or the width and length ratio of the cloth.\\nOn 17 June 1918, the All-Russian Central Executive Committee approved a sample image of the flag of the RSFSR, developed on behalf of the People\\'s Commissariat for Foreign Affairs of the Russian SFSR by the graphic artist Sergey Chekhonin. The flag was a red rectangular panel, in the upper corner of which was placed the inscription RSFSR in gold letters stylized as Slavic. This inscription was separated from the rest of the cloth on both sides by gold stripes forming a rectangle.\\nOn 30 December 1922, the RSFSR combined with the Ukrainian SSR, Byelorussian SSR, and Transcaucasian SFSR to form the Soviet Union. The national flag of the USSR was established on 18 April 1924, described in the Constitution of the USSR as a red or scarlet rectangular cloth with a 1:2 width to length ratio, with a gold sickle and hammer in the top corner next to the flagpole and a red five-pointed star framed with a golden border. This flag was carried by all ships of the USSR and diplomatic representations of the USSR. The 1:2 red flag was used, until replaced in 1954 with the universal design of the Soviet flag with a blue stripe along the mast.\\nContrary to the belief that the USSR state flag outranked the flag of the RSFSR, the actual use of the USSR flag was limited. The USSR flag in Russia flew only over two buildings, that of the Central Executive Committee of the Soviet Union and the Council of People\\'s Commissars. That decision was adopted on 23 March 1925, also establishing that the flag of the RSFSR had to be raised constantly not only on the buildings of the Central Executive Committee and the Council of People\\'s Commissars but also on the buildings of all local soviets, including village soviets and district soviets in cities. On holidays, the RSFSR flag had to be raised on many public buildings (such as schools, hospitals, and government offices).[27]\\nDuring the Second World War, the white-blue-red tricolour was used by German collaborators, most of whom were from groups targeted by the repressions of the Stalin era, including anti-communist Christians and the remnants of the Kulaks, who generally regarded the German invasion as a liberation of Russia from communism.[28][29] The Russian Liberation Army under the leadership of Andrey Vlasov used the tricolour during a military flag.[30][31]\\nOn 20 January 1947, the Presidium of the Supreme Soviet of the USSR found it necessary to amend the national flags of the allied republics so that the flags reflected the idea of a Soviet Union state as well as the unique national identities of the republics. On each of the flags was placed the emblem of the USSR, a sickle and a hammer with a red five-pointed star, with the inclusion of national ornaments and new colours.[32] The new RSFSR flag was established in January 1954: a red rectangular panel with a light blue strip near the pole running the full width of the flag. In the upper left corner of the red canvas were depicted a golden sickle and a hammer and above them a red five-pointed star framed with a golden border. By the Law of the RSFSR of 2 June 1954, this flag was approved and the description of the flag was included in Article 149 of the Constitution of the RSFSR.[33]\\nDuring the dissolution of the Soviet Union, after the 1991 August Coup, the Russian SFSR adopted a new flag design similar to the pre-revolutionary tricolour that had been abolished in 1917. The ratio of the new flag was 1:2, and the flag colours consisted of white on the top, blue in the middle, and red on the bottom. The flag design remained the same until 1993, when the original Russian tricolour was fully restored as the current flag after the 1993 Russian constitutional crisis.[citation needed] Following the events of the attempted coup in Moscow, the supreme soviet of the Russian SFSR declared, by resolution dated 22 August 1991,[34] that the old imperial tricolour flag serve as the national flag of the state. The constitution was subsequently amended by Law No. 1827-1 1 November 1991.[35] At the disintegration of the USSR on 25 December 1991, the Soviet flag was lowered from Kremlin and then replaced by the tricolor flag. \\nThe modern era flag underwent a proportion change from 1:2 to 2:3 in 1993 and has been most recently provided for by a 2000 law.[36] On 11 December 1993, President of the Russian Federation Boris Yeltsin signed Decree No. 2126 \"On the State Flag of the Russian Federation\".[37] In Article 1 of the decree, the flag was described as a \"rectangular panel of three equal horizontal stripes: the top – white, middle – blue, and bottom – red, with a width to length ratio of 2:3.\" The pre-1993 flag is still depicted on Russian license plates, as the design specifications were finalized and published 6 months prior to Yeltsin\\'s decree.\\nThe National Flag Day is an official holiday in Russia, established in 1994. It is celebrated on 22 August, the day of the victory over putschists in 1991, but employees remain at work.\\nAt the times of Alexander III of Russia the official interpretation was as follows: the white colour symbolizes nobility and frankness; the blue for faithfulness, honesty, impeccability, and chastity; and the red for courage, generosity, and love. A common unofficial interpretation was: Red: Great Russia, White: White Russia, Blue: Little Russia.[38]\\nWhen the Russian flag and the flags of the Russian federal subjects are flown at the same time, the national flag should be:\\nThe flag cannot be smaller, or lower than a regional flag.[39]\\nFederal constitutional law of the Russian Federation only says that the colours of the flag are \"white\", \"blue\" (синий, or dark blue, as Russian has two colours that are called \"blue\" in English), and \"red\". The Federal Constitutional Law on the State Flag of the Russian Federation does not actually specify which shades the colours should be. Russian government agencies when ordering the manufacture of cloth for the flag indicate the following Pantone colours: white, blue (Pantone 286C), and red (Pantone 485C).[40][41][42]\\nThe album of national flags, published by the Hydrographic and Oceanographic Service of the Navy (France), gives the following shades of colours of the flag of Russia in Pantone:[45]\\nA variant of the flag was authorized for private use by Tsar Nicholas II before World War I, adding the large state eagle on a yellow field (imperial standard) in the canton. It has never been used as the official state flag. Likewise, today some Russian people may use another variant of the flag defaced with the coat of arms (in this case the double-headed eagle is depicted without the shield) in the middle and the golden word РОССИЯ at the bottom.[46]\\nAfter the October Revolution of 1917, the tricolour design was banned, and a definitive new flag of the Russian SFSR was introduced in 1954 (see flag of the Russian SFSR), and this remained the republic\\'s flag until the collapse of the Soviet Union in 1991. All of the Soviet republics\\' flags were created by introducing a small but noticeable change to the flag of the Soviet Union. For Russia, the change was an introduction of the left-hand blue band. The previous Soviet design was different, a plain red flag with different variants of the \"RSFSR\" abbreviation in the canton. Today, the Soviet flag is used by the supporters and members of the Communist Party of the Russian Federation.\\nThe tricolour was used by the anticommunist forces during the Civil War called the White movement. It was continued to be used by White émigrés in various countries as the Russian flag. The tricolour was associated both in Soviet Russia as well as the Russian White emigre communities as symbolizing a traditional tsarist Orthodox Russia. This flag can be seen inside a few Orthodox churches in the West established by the Russian communities. In the Soviet Union, the tricolour  was used in films set in the pre-revolutionary period and was seen as a historical flag, especially after the 1940s.\\nIt, rather than the black-yellow-white colour combination, was readopted by Russia on 22 August 1991. That date is celebrated yearly as the national flag day.[citation needed]\\nThe Russian president uses a standard which was introduced via Presidential Decree No.319 on 15 February 1994, it is officially defined as the square tricolour with the coat of arms (in this case the double-headed eagle is depicted without the shield) in the middle.[47][48]\\nThe flag of Russia is represented as the Unicode emoji sequence U+1F1F7 🇷 REGIONAL INDICATOR SYMBOL LETTER R and U+1F1FA 🇺 REGIONAL INDICATOR SYMBOL LETTER U, making \"🇷🇺\".[49]\\n'"
            ],
            "application/vnd.google.colaboratory.intrinsic+json": {
              "type": "string"
            }
          },
          "metadata": {},
          "execution_count": 45
        }
      ]
    },
    {
      "cell_type": "code",
      "source": [
        "'''\n",
        "Проверяем функцию для скрейпинга: пример 2\n",
        "'''\n",
        "\n",
        "scrape_text_from_url('https://www.rottentomatoes.com/m/civil_war_2024/reviews', 'p', 'review-text')"
      ],
      "metadata": {
        "colab": {
          "base_uri": "https://localhost:8080/",
          "height": 143
        },
        "id": "lEaIYoD-Lez_",
        "outputId": "662463f8-c658-458f-a98f-b1e1217960d5"
      },
      "execution_count": null,
      "outputs": [
        {
          "output_type": "execute_result",
          "data": {
            "text/plain": [
              "\"Civil War is not a film about why extreme division happens; it’s about the personal impact of division at its worst.A staggering and frequently brilliant film looking at a hopefully just fictionalized version of America destroying itself from within.Garland seems poised to be make political points, to show how our current political dysfunction could lead to something far worse… but he never follows through.This violent tale of anaesthetised reporters is just a war yarn with a twist.This easy digital fakeness is there to get the audience used to it...Rather than glorifying war, the film is artful and meditative, making us feel the pointlessness of this violence, how unglamorous and exhausting and unheroic it is.It’s not always subtle, and in some cases it’s even frustrating with some of its narrative decisions, but nothing can deny its uncanny ability to leave you horrified by how war, civil or otherwise, can be truly monstrous from any humanist angle.The film isn’t very deep, but it does paint the grimmest picture possible of a divided nation with bodies bodies bodies everywhere.With a career best performance from Kirsten Dunst and a pulsating sound design, Civil War is a thrilling body of work that should be talked about in journalism circles.Garland's decision to forego any narrative antecedent makes the predictable ending that much more of a bummer. Civil War is a more muscular film than Men. Like that movie, however, it mistakes broad brush strokes for insight.Audiences expecting a meticulously-crafted backstory for how this war started and who the players are will be sorely disappointed.This is another war-is-awful movie, tracing the experiences of a team of photojournalists who throw themselves into the firing line. And even without much of a point, it's rivetingly well-made.Garland uses violence as a means to a much larger end that should leave moviegoers disturbed and, at times, sickened; that should leave us challenged to think rather than feeling any kind of welcome catharsis. The final shot ... is stunning in its irony.The film seems caught between wanting to be exciting and devastating, as it threatens to turn its captivating story into another generic shoot-them-up war film, just on a grander scale.Civil War is not a polemic, but it is a mirror to the USA’s political crisis.If beauty is the sole standard for their work, then the film’s view of war photography is as an aesthetic death cult.Garland appears to make movies less for audiences than as think pieces, and, given the esteem in which his films are held, the ploy has paid off handsomely.An urgent film about a barely-distant future.There’s a cautionary message then in the madness: stop or perish; the choice is entirely ours.Civil War is a reflection of what you bring to it. That puts the impetus on the viewer to meet the film on its level. Some won’t like what they find. The nature of that discussion is what will ultimately make this film immortal.\""
            ],
            "application/vnd.google.colaboratory.intrinsic+json": {
              "type": "string"
            }
          },
          "metadata": {},
          "execution_count": 46
        }
      ]
    },
    {
      "cell_type": "markdown",
      "source": [
        "# **Задание 2:** Написать функцию для сентимент-анализа"
      ],
      "metadata": {
        "id": "8AnbsujSBMNM"
      }
    },
    {
      "cell_type": "code",
      "source": [
        "import re # регулярные выражения для чистки\n",
        "\n",
        "'''\n",
        "Загружаем списки слов с положительным и отрицательным значением\n",
        "'''\n",
        "\n",
        "!wget https://raw.githubusercontent.com/vifirsanova/hse-python-course/main/data/neg.txt\n",
        "!wget https://raw.githubusercontent.com/vifirsanova/hse-python-course/main/data/pos.txt\n",
        "!wget https://raw.githubusercontent.com/vifirsanova/hse-python-course/main/data/stopwords.txt\n",
        "\n",
        "with open('neg.txt', 'r', encoding='utf-8') as f:\n",
        "  neg = f.read()\n",
        "\n",
        "with open('pos.txt', 'r', encoding='utf-8') as f:\n",
        "  pos = f.read()\n",
        "\n",
        "with open('stopwords.txt', 'r', encoding='utf-8') as f:\n",
        "  stopwords = f.read()"
      ],
      "metadata": {
        "colab": {
          "base_uri": "https://localhost:8080/"
        },
        "id": "O_rJHbqTBRVO",
        "outputId": "13b90bdb-b351-492a-ea44-f8a81f2f0fb8"
      },
      "execution_count": null,
      "outputs": [
        {
          "output_type": "stream",
          "name": "stdout",
          "text": [
            "--2024-12-11 15:56:45--  https://raw.githubusercontent.com/vifirsanova/hse-python-course/main/data/neg.txt\n",
            "Resolving raw.githubusercontent.com (raw.githubusercontent.com)... 185.199.109.133, 185.199.108.133, 185.199.111.133, ...\n",
            "Connecting to raw.githubusercontent.com (raw.githubusercontent.com)|185.199.109.133|:443... connected.\n",
            "HTTP request sent, awaiting response... 200 OK\n",
            "Length: 44759 (44K) [text/plain]\n",
            "Saving to: ‘neg.txt.1’\n",
            "\n",
            "\rneg.txt.1             0%[                    ]       0  --.-KB/s               \rneg.txt.1           100%[===================>]  43.71K  --.-KB/s    in 0.001s  \n",
            "\n",
            "2024-12-11 15:56:45 (32.7 MB/s) - ‘neg.txt.1’ saved [44759/44759]\n",
            "\n",
            "--2024-12-11 15:56:45--  https://raw.githubusercontent.com/vifirsanova/hse-python-course/main/data/pos.txt\n",
            "Resolving raw.githubusercontent.com (raw.githubusercontent.com)... 185.199.108.133, 185.199.109.133, 185.199.110.133, ...\n",
            "Connecting to raw.githubusercontent.com (raw.githubusercontent.com)|185.199.108.133|:443... connected.\n",
            "HTTP request sent, awaiting response... 200 OK\n",
            "Length: 19093 (19K) [text/plain]\n",
            "Saving to: ‘pos.txt.1’\n",
            "\n",
            "pos.txt.1           100%[===================>]  18.65K  --.-KB/s    in 0s      \n",
            "\n",
            "2024-12-11 15:56:45 (109 MB/s) - ‘pos.txt.1’ saved [19093/19093]\n",
            "\n",
            "--2024-12-11 15:56:45--  https://raw.githubusercontent.com/vifirsanova/hse-python-course/main/data/stopwords.txt\n",
            "Resolving raw.githubusercontent.com (raw.githubusercontent.com)... 185.199.109.133, 185.199.110.133, 185.199.108.133, ...\n",
            "Connecting to raw.githubusercontent.com (raw.githubusercontent.com)|185.199.109.133|:443... connected.\n",
            "HTTP request sent, awaiting response... 200 OK\n",
            "Length: 954 [text/plain]\n",
            "Saving to: ‘stopwords.txt’\n",
            "\n",
            "stopwords.txt       100%[===================>]     954  --.-KB/s    in 0s      \n",
            "\n",
            "2024-12-11 15:56:45 (50.6 MB/s) - ‘stopwords.txt’ saved [954/954]\n",
            "\n"
          ]
        }
      ]
    },
    {
      "cell_type": "code",
      "source": [
        "'''\n",
        "Создайте списки слов, разделив строку по знаку \\n\n",
        "'''\n",
        "\n",
        "pos_list, neg_list = pos.split('\\n'), neg.split('\\n')\n",
        "\n",
        "print(pos_list[:10])\n",
        "print(neg_list[:10])"
      ],
      "metadata": {
        "colab": {
          "base_uri": "https://localhost:8080/"
        },
        "id": "bEMM4t_VWxya",
        "outputId": "fedae7c0-9c73-40be-f1de-3e4d24cb7b55"
      },
      "execution_count": null,
      "outputs": [
        {
          "output_type": "stream",
          "name": "stdout",
          "text": [
            "['a+', 'abound', 'abounds', 'abundance', 'abundant', 'accessable', 'accessible', 'acclaim', 'acclaimed', 'acclamation']\n",
            "['2-faced', '2-faces', 'abnormal', 'abolish', 'abominable', 'abominably', 'abominate', 'abomination', 'abort', 'aborted']\n"
          ]
        }
      ]
    },
    {
      "cell_type": "code",
      "source": [
        "'''\n",
        "Допишите функцию для анализа тональности\n",
        "Функция принимает на вход 3 аргумента:\n",
        "  - переменную text с текстов для анализа\n",
        "  - 2 списка со словами для анализа тональности: positive_words и negative_words\n",
        "'''\n",
        "\n",
        "def analyze_sentiment(text, positive_words, negative_words):\n",
        "    # Приведите текст к нижнему регистру и поделите его на слова\n",
        "    # Удалить стоп-слова и знаки препинания; использовать NLP-библиотеки для токенизации\n",
        "\n",
        "    no_punctuation = re.sub(r'[^\\w\\s]', '', text)\n",
        "    no_spaces = re.sub(r'\\s+', ' ', no_punctuation)\n",
        "    words = no_spaces.lower().split() # Запишите результат в переменную words\n",
        "\n",
        "    # Считаем скор тональности: количество пересечений между списками words и положительными / отрицательными словами\n",
        "    positive_count = sum(1 for word in words if word in positive_words)\n",
        "    negative_count = sum(1 for word in words if word in negative_words)\n",
        "\n",
        "    if positive_count > negative_count: # если положительный скор больше отрицательного, возвращаем строчку 'positive'\n",
        "      return 'positive'\n",
        "    elif negative_count > positive_count: # если отрицательный скор больше положительного, возвращаем строчку 'negative'\n",
        "      return 'negative'\n",
        "    else: # Иначе возвращаем строчку 'neutral'\n",
        "      return 'neutral'"
      ],
      "metadata": {
        "id": "r8uRvro9YA2C"
      },
      "execution_count": null,
      "outputs": []
    },
    {
      "cell_type": "code",
      "source": [
        "'''\n",
        "Проверяем функцию для анализа тональности: пример 1\n",
        "'''\n",
        "\n",
        "analyze_sentiment('This sample text is awesome!', pos_list, neg_list)\n"
      ],
      "metadata": {
        "colab": {
          "base_uri": "https://localhost:8080/",
          "height": 35
        },
        "id": "ENwMOcVMeuGE",
        "outputId": "15a9e431-c759-4ac0-996e-52a05677696d"
      },
      "execution_count": null,
      "outputs": [
        {
          "output_type": "execute_result",
          "data": {
            "text/plain": [
              "'positive'"
            ],
            "application/vnd.google.colaboratory.intrinsic+json": {
              "type": "string"
            }
          },
          "metadata": {},
          "execution_count": 67
        }
      ]
    },
    {
      "cell_type": "code",
      "source": [
        "'''\n",
        "Проверяем функцию для анализа тональности: пример 2\n",
        "'''\n",
        "\n",
        "analyze_sentiment('I hate this sample text.', pos_list, neg_list)"
      ],
      "metadata": {
        "colab": {
          "base_uri": "https://localhost:8080/",
          "height": 35
        },
        "id": "r5t8p-mOewuu",
        "outputId": "a3d79a61-9e39-4943-9507-0aff3878a717"
      },
      "execution_count": null,
      "outputs": [
        {
          "output_type": "execute_result",
          "data": {
            "text/plain": [
              "'negative'"
            ],
            "application/vnd.google.colaboratory.intrinsic+json": {
              "type": "string"
            }
          },
          "metadata": {},
          "execution_count": 68
        }
      ]
    },
    {
      "cell_type": "code",
      "source": [
        "'''\n",
        "Проверяем функцию для анализа тональности: пример 3\n",
        "'''\n",
        "\n",
        "analyze_sentiment('We love and hate this sample text at the same time!', pos_list, neg_list)"
      ],
      "metadata": {
        "colab": {
          "base_uri": "https://localhost:8080/",
          "height": 35
        },
        "id": "pT_OOOyTe0E2",
        "outputId": "553a089d-1995-4215-b56c-d72227122932"
      },
      "execution_count": null,
      "outputs": [
        {
          "output_type": "execute_result",
          "data": {
            "text/plain": [
              "'neutral'"
            ],
            "application/vnd.google.colaboratory.intrinsic+json": {
              "type": "string"
            }
          },
          "metadata": {},
          "execution_count": 65
        }
      ]
    },
    {
      "cell_type": "markdown",
      "source": [
        "# **Задание 3:** Написать функцию для вывода сентимент-скоров"
      ],
      "metadata": {
        "id": "nLr8okSfgegi"
      }
    },
    {
      "cell_type": "code",
      "source": [
        "'''\n",
        "Допишите функцию для вывода скоров по заданному URL\n",
        "'''\n",
        "\n",
        "def analyze(positive_words, negative_words, url, tag, class_=None):\n",
        "  scraped_text = scrape_text_from_url(url, tag, class_) # примените функцию scrape_text_from_url\n",
        "  sentences = scraped_text.split('.') # ваш код здесь: сегментируйте текст по предложениям (через точку)\n",
        "  sentiments = [] # пустой список, куда запишем скоры\n",
        "\n",
        "  for sentence in sentences: # начинаем перебор по предложениям\n",
        "      sentence = sentence.strip()\n",
        "      if sentence:  # предложение не пустое\n",
        "        score = analyze_sentiment(sentence, positive_words, negative_words) # получаем скор для данного предложения с помощью функции analyze_sentiment\n",
        "        sentiments.append(score)  # добавляем скор в созданный список\n",
        "\n",
        "  return sentiments # возвращаем список скоров"
      ],
      "metadata": {
        "id": "2XjiSzdDgfGo"
      },
      "execution_count": null,
      "outputs": []
    },
    {
      "cell_type": "code",
      "source": [
        "'''\n",
        "Тест 1\n",
        "'''\n",
        "\n",
        "analyze(url='https://en.wikipedia.org/wiki/Chomsky_hierarchy', tag='p', positive_words=pos, negative_words=neg)[:10]"
      ],
      "metadata": {
        "colab": {
          "base_uri": "https://localhost:8080/"
        },
        "id": "qg-Gilrwgjjj",
        "outputId": "5628ee19-55de-4057-e4df-0eeb11849e20"
      },
      "execution_count": null,
      "outputs": [
        {
          "output_type": "execute_result",
          "data": {
            "text/plain": [
              "['neutral',\n",
              " 'negative',\n",
              " 'negative',\n",
              " 'negative',\n",
              " 'negative',\n",
              " 'positive',\n",
              " 'negative',\n",
              " 'negative',\n",
              " 'negative',\n",
              " 'negative']"
            ]
          },
          "metadata": {},
          "execution_count": 77
        }
      ]
    },
    {
      "cell_type": "code",
      "source": [
        "'''\n",
        "Тест 2\n",
        "'''\n",
        "\n",
        "analyze(url='https://www.rottentomatoes.com/m/civil_war_2024/reviews', tag='p', class_='review-text', positive_words=pos, negative_words=neg)[:10]"
      ],
      "metadata": {
        "colab": {
          "base_uri": "https://localhost:8080/"
        },
        "id": "GeXFG6TDjb-G",
        "outputId": "a1f6a6d5-ec54-4126-fe44-18e45b8de915"
      },
      "execution_count": null,
      "outputs": [
        {
          "output_type": "execute_result",
          "data": {
            "text/plain": [
              "['negative',\n",
              " 'neutral',\n",
              " 'negative',\n",
              " 'negative',\n",
              " 'negative',\n",
              " 'negative',\n",
              " 'negative',\n",
              " 'positive',\n",
              " 'negative',\n",
              " 'negative']"
            ]
          },
          "metadata": {},
          "execution_count": 78
        }
      ]
    },
    {
      "cell_type": "markdown",
      "source": [
        "# **Задание 4:** Визуализировать результаты анализа"
      ],
      "metadata": {
        "id": "x5OczJ0ejjP6"
      }
    },
    {
      "cell_type": "code",
      "source": [
        "'''\n",
        "Создаем частотный словарь с помощью библиотеки Counter.\n",
        "Можно выбрать другие веб-страницы для анализа!\n",
        "'''\n",
        "\n",
        "from collections import Counter\n",
        "\n",
        "sample1 = Counter(analyze(url='https://en.wikipedia.org/wiki/Chomsky_hierarchy', tag='p', positive_words=pos, negative_words=neg))\n",
        "sample2 = Counter(analyze(url='https://www.rottentomatoes.com/m/civil_war_2024/reviews', tag='p', class_='review-text', positive_words=pos, negative_words=neg))\n",
        "\n",
        "sample1"
      ],
      "metadata": {
        "colab": {
          "base_uri": "https://localhost:8080/"
        },
        "id": "PJNpBbCKjnqO",
        "outputId": "7022c609-b6f7-47fb-ed44-8f52ca550264"
      },
      "execution_count": null,
      "outputs": [
        {
          "output_type": "execute_result",
          "data": {
            "text/plain": [
              "Counter({'neutral': 6, 'negative': 33, 'positive': 4})"
            ]
          },
          "metadata": {},
          "execution_count": 79
        }
      ]
    },
    {
      "cell_type": "code",
      "source": [
        "'''\n",
        "Создаем визуализацию: попробуйте использование новые данные (данные других url)\n",
        "'''\n",
        "\n",
        "import numpy as np\n",
        "import pandas as pd\n",
        "import matplotlib.pyplot as plt\n",
        "\n",
        "df1 = pd.DataFrame.from_dict(sample1, orient='index', columns=['Wikipedia'])\n",
        "df2 = pd.DataFrame.from_dict(sample2, orient='index', columns=['Rotten'])\n",
        "\n",
        "fig, ax = plt.subplots(ncols=2)\n",
        "\n",
        "ax[0] = df1.plot.bar(ax=ax[0])\n",
        "ax[1] = df2.plot.bar(ax=ax[1], color='orange')"
      ],
      "metadata": {
        "colab": {
          "base_uri": "https://localhost:8080/",
          "height": 477
        },
        "id": "A6yH1t0vjs-J",
        "outputId": "a7645fd6-f6c2-4699-fda5-d48efed72139"
      },
      "execution_count": null,
      "outputs": [
        {
          "output_type": "display_data",
          "data": {
            "text/plain": [
              "<Figure size 640x480 with 2 Axes>"
            ],
            "image/png": "[encoded data removed]"
          },
          "metadata": {}
        }
      ]
    },
    {
      "cell_type": "markdown",
      "source": [
        "# **Задание 5:** Соберите все 3 функции в одной ячейке ниже. Проанализируйте получшившийся код. Сделайте ревью!"
      ],
      "metadata": {
        "id": "P7ze1nyMk2xu"
      }
    },
    {
      "cell_type": "code",
      "source": [
        "import requests\n",
        "from bs4 import BeautifulSoup\n",
        "import re\n",
        "from collections import Counter\n",
        "\n",
        "!wget https://raw.githubusercontent.com/vifirsanova/hse-python-course/main/data/neg.txt\n",
        "!wget https://raw.githubusercontent.com/vifirsanova/hse-python-course/main/data/pos.txt\n",
        "!wget https://raw.githubusercontent.com/vifirsanova/hse-python-course/main/data/stopwords.txt\n",
        "\n",
        "with open('neg.txt', 'r', encoding='utf-8') as f:\n",
        "  neg = f.read()\n",
        "\n",
        "with open('pos.txt', 'r', encoding='utf-8') as f:\n",
        "  pos = f.read()\n",
        "\n",
        "with open('stopwords.txt', 'r', encoding='utf-8') as f:\n",
        "  stopwords = f.read()\n",
        "\n",
        "# удаление знаков препинания, приведение к нижнему регистру и разделение по словам\n",
        "def process_text(text):\n",
        "    return re.sub(r'[^\\w\\s]', '', text).lower().split()\n",
        "\n",
        "# Подсчет сентимента\n",
        "def count_sentiment(words, positive_words, negative_words):\n",
        "    # Сравнивает слова с позитивными и негативными списками и возвращает тональность\n",
        "    positive_count = sum(1 for word in words if word in positive_words)\n",
        "    negative_count = sum(1 for word in words if word in negative_words)\n",
        "    if positive_count > negative_count:\n",
        "        return 'positive'\n",
        "    elif negative_count > positive_count:\n",
        "        return 'negative'\n",
        "    else:\n",
        "        return 'neutral'\n",
        "\n",
        "# 3 в 1\n",
        "def three_in_one(url, tag, class_=None):\n",
        "    \"\"\"\n",
        "    1. Скрейпинг текста с веб-страницы.\n",
        "    2. Анализ общего сентимента.\n",
        "    3. Анализ сентимента по предложениям.\n",
        "    \"\"\"\n",
        "    # Шаг 1: Получение текста\n",
        "    response = requests.get(url)\n",
        "    if response.status_code != 200:\n",
        "        return f\"Ошибка №{response.status_code}\"\n",
        "\n",
        "    soup = BeautifulSoup(response.content, 'html.parser')\n",
        "    paragraphs = soup.find_all(tag, class_)\n",
        "    text = \" \".join([p.get_text() for p in paragraphs])\n",
        "    print(f\"Длина текста: {len(text)} символов\")\n",
        "    print()\n",
        "\n",
        "    # Шаг 2: Сентимент\n",
        "    words = process_text(text)\n",
        "    overall_sentiment = count_sentiment(words, pos, neg)\n",
        "    print(f\"Эмоциональная окраска текста: {overall_sentiment}.\")\n",
        "    print()\n",
        "\n",
        "    # Шаг 3: Анализ сентимента предложений\n",
        "    sentences = text.split('.')\n",
        "    sentence_sentiments = [\n",
        "        count_sentiment(process_text(sentence), pos, neg)\n",
        "        for sentence in sentences if sentence.strip()\n",
        "    ]\n",
        "    sentiment_counts = Counter(sentence_sentiments)\n",
        "    print(f\"Распределение сентимента по предложениям: {dict(sentiment_counts)}.\")\n",
        "    print()\n",
        "\n",
        "    # Итог сентимента\n",
        "    return {\n",
        "        \"Общий сентимент\": overall_sentiment,\n",
        "        \"Сентимент по предложениям\": sentence_sentiments,\n",
        "        \"Распределние сентимента\": dict(sentiment_counts)\n",
        "    }\n",
        "\n",
        "# Запуск функции\n",
        "three_in_one('https://cyber.sports.ru/cs/1116565514-donk-o-klatche-1-v-5-protiv-heroic-eto-kak-budto-byl-klatch-ot-simpla-.html', 'p')\n"
      ],
      "metadata": {
        "colab": {
          "base_uri": "https://localhost:8080/"
        },
        "id": "mra-f_qDk-5g",
        "outputId": "11854645-f445-430f-895a-f54f4634243a"
      },
      "execution_count": 16,
      "outputs": [
        {
          "output_type": "stream",
          "name": "stdout",
          "text": [
            "--2024-12-11 20:41:13--  https://raw.githubusercontent.com/vifirsanova/hse-python-course/main/data/neg.txt\n",
            "Resolving raw.githubusercontent.com (raw.githubusercontent.com)... 185.199.110.133, 185.199.108.133, 185.199.111.133, ...\n",
            "Connecting to raw.githubusercontent.com (raw.githubusercontent.com)|185.199.110.133|:443... connected.\n",
            "HTTP request sent, awaiting response... 200 OK\n",
            "Length: 44759 (44K) [text/plain]\n",
            "Saving to: ‘neg.txt.6’\n",
            "\n",
            "\rneg.txt.6             0%[                    ]       0  --.-KB/s               \rneg.txt.6           100%[===================>]  43.71K  --.-KB/s    in 0.001s  \n",
            "\n",
            "2024-12-11 20:41:13 (45.9 MB/s) - ‘neg.txt.6’ saved [44759/44759]\n",
            "\n",
            "--2024-12-11 20:41:13--  https://raw.githubusercontent.com/vifirsanova/hse-python-course/main/data/pos.txt\n",
            "Resolving raw.githubusercontent.com (raw.githubusercontent.com)... 185.199.108.133, 185.199.109.133, 185.199.110.133, ...\n",
            "Connecting to raw.githubusercontent.com (raw.githubusercontent.com)|185.199.108.133|:443... connected.\n",
            "HTTP request sent, awaiting response... 200 OK\n",
            "Length: 19093 (19K) [text/plain]\n",
            "Saving to: ‘pos.txt.6’\n",
            "\n",
            "pos.txt.6           100%[===================>]  18.65K  --.-KB/s    in 0s      \n",
            "\n",
            "2024-12-11 20:41:13 (92.9 MB/s) - ‘pos.txt.6’ saved [19093/19093]\n",
            "\n",
            "--2024-12-11 20:41:13--  https://raw.githubusercontent.com/vifirsanova/hse-python-course/main/data/stopwords.txt\n",
            "Resolving raw.githubusercontent.com (raw.githubusercontent.com)... 185.199.108.133, 185.199.109.133, 185.199.110.133, ...\n",
            "Connecting to raw.githubusercontent.com (raw.githubusercontent.com)|185.199.108.133|:443... connected.\n",
            "HTTP request sent, awaiting response... 200 OK\n",
            "Length: 954 [text/plain]\n",
            "Saving to: ‘stopwords.txt.6’\n",
            "\n",
            "stopwords.txt.6     100%[===================>]     954  --.-KB/s    in 0s      \n",
            "\n",
            "2024-12-11 20:41:13 (43.1 MB/s) - ‘stopwords.txt.6’ saved [954/954]\n",
            "\n",
            "Длина текста: 1066 символов\n",
            "\n",
            "Эмоциональная окраска текста: negative.\n",
            "\n",
            "Распределение сентимента по предложениям: {'positive': 3, 'neutral': 11, 'negative': 2}.\n",
            "\n"
          ]
        },
        {
          "output_type": "execute_result",
          "data": {
            "text/plain": [
              "{'Общий сентимент': 'negative',\n",
              " 'Сентимент по предложениям': ['positive',\n",
              "  'neutral',\n",
              "  'neutral',\n",
              "  'neutral',\n",
              "  'neutral',\n",
              "  'neutral',\n",
              "  'neutral',\n",
              "  'neutral',\n",
              "  'negative',\n",
              "  'neutral',\n",
              "  'negative',\n",
              "  'positive',\n",
              "  'positive',\n",
              "  'neutral',\n",
              "  'neutral',\n",
              "  'neutral'],\n",
              " 'Распределние сентимента': {'positive': 3, 'neutral': 11, 'negative': 2}}"
            ]
          },
          "metadata": {},
          "execution_count": 16
        }
      ]
    }
  ]
}