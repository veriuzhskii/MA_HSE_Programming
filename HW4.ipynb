{
  "nbformat": 4,
  "nbformat_minor": 0,
  "metadata": {
    "colab": {
      "provenance": []
    },
    "kernelspec": {
      "name": "python3",
      "display_name": "Python 3"
    },
    "language_info": {
      "name": "python"
    }
  },
  "cells": [
    {
      "cell_type": "markdown",
      "source": [
        "# **Блок 1: задачи на условия**"
      ],
      "metadata": {
        "id": "Tk1e11gz_CJl"
      }
    },
    {
      "cell_type": "markdown",
      "source": [
        "# **1. Напишите программу для проверки пароля пользователя**"
      ],
      "metadata": {
        "id": "VyHHlYhjcj77"
      }
    },
    {
      "cell_type": "code",
      "execution_count": 22,
      "metadata": {
        "colab": {
          "base_uri": "https://localhost:8080/"
        },
        "outputId": "ded7e3ad-8276-4647-ae19-3f806c35bb87",
        "id": "CUh9kwrucj78"
      },
      "outputs": [
        {
          "output_type": "stream",
          "name": "stdout",
          "text": [
            "Введите пароль: 321\n",
            "Пароль не верный\n",
            "Введите пароль: 213\n",
            "Пароль не верный\n",
            "Введите пароль: 123\n",
            "Пароль верный\n"
          ]
        }
      ],
      "source": [
        "def check_password():\n",
        "  correct_password = \"123\"\n",
        "\n",
        "  while True:\n",
        "      password = input('Введите пароль: ')\n",
        "\n",
        "      if password != correct_password:\n",
        "          print('Пароль не верный')\n",
        "      else:\n",
        "          print('Пароль верный')\n",
        "          break\n",
        "\n",
        "check_password()"
      ]
    },
    {
      "cell_type": "markdown",
      "source": [
        "# **2. Напишите программу для проверки возраста пользователя**"
      ],
      "metadata": {
        "id": "Rw_RdMJ_aL-g"
      }
    },
    {
      "cell_type": "code",
      "execution_count": 23,
      "metadata": {
        "id": "vdsnigC9Z3bg",
        "colab": {
          "base_uri": "https://localhost:8080/"
        },
        "outputId": "ac7cc72f-2e8c-4c6b-8a19-657c9422249d"
      },
      "outputs": [
        {
          "output_type": "stream",
          "name": "stdout",
          "text": [
            "Введите возраст: 17\n",
            "Доступ запрещён\n",
            "Введите возраст: 18\n",
            "Доступ разрешён\n"
          ]
        }
      ],
      "source": [
        "def check_age():\n",
        "\n",
        "  while True:\n",
        "      age = int(input('Введите возраст: '))\n",
        "\n",
        "      if age >= 18:\n",
        "          print('Доступ разрешён')\n",
        "          break\n",
        "      else:\n",
        "          print('Доступ запрещён')\n",
        "\n",
        "check_age()"
      ]
    },
    {
      "cell_type": "markdown",
      "source": [
        "# **3. Напишите программу для приветствия пользователя**"
      ],
      "metadata": {
        "id": "MN3qvGU51Flt"
      }
    },
    {
      "cell_type": "code",
      "execution_count": 21,
      "metadata": {
        "colab": {
          "base_uri": "https://localhost:8080/"
        },
        "outputId": "9a045e19-0c21-43a0-90eb-89510fdc6416",
        "id": "nE9iuMuE1Flu"
      },
      "outputs": [
        {
          "output_type": "stream",
          "name": "stdout",
          "text": [
            "Введите время: 12:30\n",
            "Добрый день!\n",
            "Введите время: 10:30\n",
            "Доброе утро!\n",
            "Введите время: 21:30\n",
            "Добрый вечер!\n",
            "Введите время: 01:30\n",
            "Доброй ночи!\n",
            "Введите время: \n",
            "Выход из программы.\n"
          ]
        }
      ],
      "source": [
        "def greet_user():\n",
        "\n",
        "  while True:\n",
        "      time = input('Введите время: ')\n",
        "\n",
        "      if not time: # не было ввода времени, нажат Enter\n",
        "        print(\"Выход из программы.\")\n",
        "        break\n",
        "\n",
        "      hours = int(time.split(':')[0])\n",
        "\n",
        "      if 5 <= hours < 12:\n",
        "          print('Доброе утро!')\n",
        "      elif 12 <= hours < 18:\n",
        "          print('Добрый день!')\n",
        "      elif 18 <= hours < 22:\n",
        "          print('Добрый вечер!')\n",
        "      else:\n",
        "          print('Доброй ночи!')\n",
        "\n",
        "greet_user()"
      ]
    },
    {
      "cell_type": "markdown",
      "source": [
        "# **4. Целочисленный калькулятор**"
      ],
      "metadata": {
        "id": "-Qrc39201HvF"
      }
    },
    {
      "cell_type": "code",
      "source": [
        "import re"
      ],
      "metadata": {
        "id": "SUAqBjd66JCk"
      },
      "execution_count": 30,
      "outputs": []
    },
    {
      "cell_type": "code",
      "execution_count": 35,
      "metadata": {
        "colab": {
          "base_uri": "https://localhost:8080/"
        },
        "outputId": "82119838-bfeb-4f74-c97b-371b8bfcaabf",
        "collapsed": true,
        "id": "pRIijCKn1HvG"
      },
      "outputs": [
        {
          "output_type": "stream",
          "name": "stdout",
          "text": [
            "Введите выражение: 2 + 2\n",
            "4\n",
            "Введите выражение: 2-2\n",
            "0\n",
            "Введите выражение: 2 : 2\n",
            "1\n",
            "Введите выражение: 2 *2\n",
            "4\n",
            "Введите выражение: \n",
            "Выход из программы.\n"
          ]
        }
      ],
      "source": [
        "def int_calc():\n",
        "  while True:\n",
        "    expression = input('Введите выражение: ')\n",
        "\n",
        "    if not expression:\n",
        "        print(\"Выход из программы.\")\n",
        "        break\n",
        "\n",
        "    match = re.match(r\"(\\d+)\\s*([\\+\\-\\*:/])\\s*(\\d+)\", expression)\n",
        "\n",
        "    if not match:\n",
        "        print(\"Неверный формат. Введите выражение в формате: число -> операция -> число\")\n",
        "        continue\n",
        "\n",
        "    try:\n",
        "        num1 = int(match.group(1))\n",
        "        operator = match.group(2)\n",
        "        num2 = int(match.group(3))\n",
        "    except ValueError:\n",
        "        print(\"Неверный ввод чисел. Попробуйте снова.\")\n",
        "        continue\n",
        "\n",
        "    if operator == \"+\":\n",
        "        result = num1 + num2\n",
        "    elif operator == \"-\":\n",
        "        result = num1 - num2\n",
        "    elif operator == \"*\":\n",
        "        result = num1 * num2\n",
        "    elif operator == \":\" or operator == \"/\":\n",
        "        if num2 == 0:\n",
        "            print(\"Ошибка! Деление на ноль\")\n",
        "            continue\n",
        "        result = num1 // num2\n",
        "    else:\n",
        "        print(\"Допустимые операции: сложение, вычитание, умножение и деление\")\n",
        "        continue\n",
        "\n",
        "    print(result)\n",
        "\n",
        "int_calc()"
      ]
    },
    {
      "cell_type": "markdown",
      "source": [
        "# **5. Умный калькулятор**"
      ],
      "metadata": {
        "id": "XenZnBKC8Cag"
      }
    },
    {
      "cell_type": "code",
      "execution_count": 38,
      "metadata": {
        "colab": {
          "base_uri": "https://localhost:8080/"
        },
        "outputId": "880338ea-d572-4e10-fe53-d91ab10624ee",
        "collapsed": true,
        "id": "PN0CgVfh8Cai"
      },
      "outputs": [
        {
          "output_type": "stream",
          "name": "stdout",
          "text": [
            "Введите выражение: 2+2\n",
            "4\n",
            "Введите выражение: 2==2\n",
            "True\n",
            "Введите выражение: 2+2.1\n",
            "4.1\n",
            "Введите выражение: \n",
            "Выход из программы.\n"
          ]
        }
      ],
      "source": [
        "def smart_calc():\n",
        "  while True:\n",
        "    expression = input(\"Введите выражение: \")\n",
        "\n",
        "    if not expression:\n",
        "        print(\"Выход из программы.\")\n",
        "        break\n",
        "\n",
        "    match = re.match(r\"(\\d+(\\.\\d+)?)\\s*([\\+\\-\\*:/<>=!]+)\\s*(\\d+(\\.\\d+)?)\", expression)\n",
        "\n",
        "    if not match:\n",
        "        print(\"Неверный формат. Введите выражение в формате: число -> операция -> число\")\n",
        "        continue\n",
        "\n",
        "    try:\n",
        "        num1 = float(match.group(1))\n",
        "        operator = match.group(3)\n",
        "        num2 = float(match.group(4))\n",
        "    except ValueError:\n",
        "        print(\"Неверный ввод чисел. Попробуйте снова.\")\n",
        "        continue\n",
        "\n",
        "    if operator == \"==\":\n",
        "        result = num1 == num2\n",
        "    elif operator == \"!=\":\n",
        "        result = num1 != num2\n",
        "    elif operator == \"<\":\n",
        "        result = num1 < num2\n",
        "    elif operator == \">\":\n",
        "        result = num1 > num2\n",
        "    elif operator == \"<=\":\n",
        "        result = num1 <= num2\n",
        "    elif operator == \">=\":\n",
        "        result = num1 >= num2\n",
        "\n",
        "    elif operator == \"+\":\n",
        "        result = num1 + num2\n",
        "    elif operator == \"-\":\n",
        "        result = num1 - num2\n",
        "    elif operator == \"*\":\n",
        "        result = num1 * num2\n",
        "    elif operator == \":\" or operator == \"/\":\n",
        "        if num2 == 0:\n",
        "            print(\"Ошибка! Деление на ноль\")\n",
        "            continue\n",
        "        result = num1 / num2\n",
        "    else:\n",
        "        print(\"Допустимые операции: сложение, вычитание, умножение, деление, 'равно', 'не равно', 'меньше', 'больше', 'меньше или равно', 'больше или равно'\")\n",
        "        continue\n",
        "\n",
        "    if isinstance(result, bool):\n",
        "        print(result)\n",
        "    elif isinstance(result, float) and result.is_integer():\n",
        "        print(int(result))\n",
        "    else:\n",
        "        print(result)\n",
        "\n",
        "smart_calc()\n"
      ]
    },
    {
      "cell_type": "markdown",
      "source": [
        "# **Блок 2: задачи на обработку данных**"
      ],
      "metadata": {
        "id": "9Ns_pPNR_S6i"
      }
    },
    {
      "cell_type": "markdown",
      "source": [
        "# **6. Фильтрация данных**"
      ],
      "metadata": {
        "id": "TKIqjm4X1IEu"
      }
    },
    {
      "cell_type": "code",
      "execution_count": 40,
      "metadata": {
        "colab": {
          "base_uri": "https://localhost:8080/"
        },
        "outputId": "00d3d811-a929-4f76-e90c-a8457f0e381e",
        "id": "b3_hbFv21IEu"
      },
      "outputs": [
        {
          "output_type": "stream",
          "name": "stdout",
          "text": [
            "Laptop\n",
            "Smartphone\n",
            "Tablet\n"
          ]
        }
      ],
      "source": [
        "# Список продуктов\n",
        "products = [\"Laptop True\", \"Headphones False\", \"Smartphone True\", \"Tablet True\", \"Speaker False\"]\n",
        "\n",
        "# Начинаем перебирать список\n",
        "for product in products:\n",
        "  # если вторая часть текущего элемента списка product == True\n",
        "  name, available = product.split()\n",
        "  if available == \"True\":\n",
        "    # выведите на экран первую часть текущего элемента списка product\n",
        "    print(name)"
      ]
    },
    {
      "cell_type": "markdown",
      "source": [
        "# **7. Фильтрация по числу**"
      ],
      "metadata": {
        "id": "tXUOIdpU1IO3"
      }
    },
    {
      "cell_type": "code",
      "execution_count": 44,
      "metadata": {
        "colab": {
          "base_uri": "https://localhost:8080/"
        },
        "outputId": "b5c11804-1dc1-41b1-f806-fd9b14e948fd",
        "id": "HL3k1tc41IO4"
      },
      "outputs": [
        {
          "output_type": "stream",
          "name": "stdout",
          "text": [
            "Headphones\n",
            "Smartphone\n",
            "Tablet\n"
          ]
        }
      ],
      "source": [
        "# Список продуктов\n",
        "num_products = [\"Laptop 8\", \"Headphones 12\", \"Smartphone 41\", \"Tablet 10\", \"Speaker 6\"]\n",
        "\n",
        "# Начинаем перебирать список\n",
        "for product in num_products:\n",
        "  name, num = product.split()\n",
        "  if int(num) >= 10:\n",
        "    print(name)"
      ]
    },
    {
      "cell_type": "markdown",
      "source": [
        "# **8. Изменение списка**"
      ],
      "metadata": {
        "id": "IhrWc65_1IZ0"
      }
    },
    {
      "cell_type": "code",
      "source": [
        "new_products = [\"Desktop 16\", \"Mouse 2\", \"Keyboard 4\"]\n",
        "\n",
        "num_products = []\n",
        "\n",
        "for product in new_products:\n",
        "    # Проверьте количество продуктов\n",
        "    productType, productNum = product.split()\n",
        "    productNum = int(productNum)\n",
        "    # Примените append к списку num_products\n",
        "    if productNum >= 10:\n",
        "        num_products.append(product)\n",
        "\n",
        "print(num_products)"
      ],
      "metadata": {
        "colab": {
          "base_uri": "https://localhost:8080/"
        },
        "id": "7MUts7QqF9Iu",
        "outputId": "1fcf325e-3a0d-4669-bff9-fc51c00fb1f2"
      },
      "execution_count": 48,
      "outputs": [
        {
          "output_type": "stream",
          "name": "stdout",
          "text": [
            "['Desktop 16']\n"
          ]
        }
      ]
    },
    {
      "cell_type": "code",
      "source": [
        "for product in num_products[:]: # [:] создает копию списка, чтобы избежать конфликтов\n",
        "  # Проверьте количество продуктов\n",
        "    productType, productNum = product.split()\n",
        "    productNum = int(productNum)\n",
        "    # Примените remove к списку num_products\n",
        "    if productNum <= 10:\n",
        "        num_products.remove(product)\n",
        "\n",
        "print(num_products)"
      ],
      "metadata": {
        "colab": {
          "base_uri": "https://localhost:8080/"
        },
        "id": "dqEDfQs8EuQI",
        "outputId": "668dca09-a028-42f4-d3c9-6228b90eb409"
      },
      "execution_count": 49,
      "outputs": [
        {
          "output_type": "stream",
          "name": "stdout",
          "text": [
            "['Desktop 16']\n"
          ]
        }
      ]
    },
    {
      "cell_type": "markdown",
      "source": [
        "# **9. Фильтрация списка имен**"
      ],
      "metadata": {
        "id": "96kF4TzV1Ika"
      }
    },
    {
      "cell_type": "code",
      "execution_count": 52,
      "metadata": {
        "colab": {
          "base_uri": "https://localhost:8080/"
        },
        "outputId": "60095dd6-ea82-4363-9cb1-ef0e9605bd3b",
        "id": "9yyvGAH11Ikb"
      },
      "outputs": [
        {
          "output_type": "stream",
          "name": "stdout",
          "text": [
            "от A до K: ['Alex', 'Chloe', 'George', 'Jordan']\n",
            "от L до Z: ['Lauren', 'Tom']\n"
          ]
        }
      ],
      "source": [
        "names = [\"Tom\", \"Chloe\", \"Alex\", \"George\", \"Lauren\", \"Jordan\"]\n",
        "\n",
        "# Создайте 2 пустых списка a_k и l_z\n",
        "a_k = []\n",
        "l_z = []\n",
        "\n",
        "for name in names:\n",
        "  # Используйте append, чтобы внести в a_k имена от A до K\n",
        "  if 'A' <= name [0] <= 'K':\n",
        "    a_k.append(name)\n",
        "  # Иначе, добавьте имена в другой список\n",
        "  else:\n",
        "    l_z.append(name)\n",
        "\n",
        "# Используйте sorted, чтобы перезаписать в оба списка отсортированные по алфавиту данные\n",
        "print(\"от A до K:\", sorted(a_k))\n",
        "print(\"от L до Z:\", sorted(l_z))"
      ]
    },
    {
      "cell_type": "markdown",
      "source": [
        "# **10. Фильтрация типов**"
      ],
      "metadata": {
        "id": "Ndxz0J7g1Iuv"
      }
    },
    {
      "cell_type": "code",
      "execution_count": 59,
      "metadata": {
        "colab": {
          "base_uri": "https://localhost:8080/"
        },
        "outputId": "4c0985e1-f6f7-40bd-852a-eec93db1240e",
        "id": "BKu3zb1u1Iuv"
      },
      "outputs": [
        {
          "output_type": "stream",
          "name": "stdout",
          "text": [
            "nums = [1, 3, 4]\n",
            "names = ['apple', 'banana', 'kiwi']\n",
            "floats = [2.5, 7.6]\n",
            "bools = [False, True, True]\n"
          ]
        }
      ],
      "source": [
        "mixed_list = [3, 1, \"kiwi\", 7.6, False, True, \"apple\", 2.5, \"banana\", True, 4]\n",
        "\n",
        "# Создайте пустые списки\n",
        "nums = []\n",
        "names = []\n",
        "floats = []\n",
        "bools = []\n",
        "\n",
        "for element in mixed_list:\n",
        "  # Проверьте тип\n",
        "  if isinstance(element, bool):\n",
        "    # Добавьте данные в нужный список\n",
        "    bools.append(element)\n",
        "  # Проверьте остальные типы\n",
        "  elif isinstance(element, int):\n",
        "    nums.append(element)\n",
        "  elif isinstance(element, str):\n",
        "    names.append(element)\n",
        "  elif isinstance(element, float):\n",
        "    floats.append(element)\n",
        "\n",
        "# Отсортируйте списки\n",
        "print(f\"nums = {sorted(nums)}\\nnames = {sorted(names)}\\nfloats = {sorted(floats)}\\nbools = {sorted(bools)}\")"
      ]
    }
  ]
}